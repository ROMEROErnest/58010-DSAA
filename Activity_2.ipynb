{
  "nbformat": 4,
  "nbformat_minor": 0,
  "metadata": {
    "colab": {
      "provenance": [],
      "authorship_tag": "ABX9TyNbtsYaU5ahXa+8QoHZd95Z",
      "include_colab_link": true
    },
    "kernelspec": {
      "name": "python3",
      "display_name": "Python 3"
    },
    "language_info": {
      "name": "python"
    }
  },
  "cells": [
    {
      "cell_type": "markdown",
      "metadata": {
        "id": "view-in-github",
        "colab_type": "text"
      },
      "source": [
        "<a href=\"https://colab.research.google.com/github/ROMEROErnest/58010-DSAA/blob/main/Activity_2.ipynb\" target=\"_parent\"><img src=\"https://colab.research.google.com/assets/colab-badge.svg\" alt=\"Open In Colab\"/></a>"
      ]
    },
    {
      "cell_type": "code",
      "execution_count": 9,
      "metadata": {
        "colab": {
          "base_uri": "https://localhost:8080/"
        },
        "id": "0QVsMPaH3HjW",
        "outputId": "a9361420-eeaa-41c1-ca14-9aa95234fd0c"
      },
      "outputs": [
        {
          "output_type": "stream",
          "name": "stdout",
          "text": [
            "Prime Numbers below 20: [2, 3, 5, 7, 11, 13, 17]\n",
            "Head: 2\n",
            "Tail: 17\n"
          ]
        }
      ],
      "source": [
        "class Node:\n",
        "    def __init__(self, data):\n",
        "        self.data = data\n",
        "        self.next = None\n",
        "\n",
        "class LinkedList:\n",
        "    def __init__(self):\n",
        "        self.head = None\n",
        "        self.tail = None\n",
        "\n",
        "    def newnode(self, data):\n",
        "        newnode = Node(data)\n",
        "        if self.head is None:\n",
        "            self.head = newnode\n",
        "            self.tail = newnode\n",
        "        else:\n",
        "            self.tail.next = newnode\n",
        "            self.tail = newnode\n",
        "\n",
        "    def display(self):\n",
        "        now = self.head\n",
        "        while now:\n",
        "            print(now.data, end=\" \")\n",
        "            now = now.next\n",
        "\n",
        "PrimeNumbers = [2, 3, 5, 7, 11, 13, 17]\n",
        "\n",
        "prime_list = LinkedList()\n",
        "for num in PrimeNumbers:\n",
        "    prime_list.newnode(num)\n",
        "\n",
        "print(\"Prime Numbers below 20:\", PrimeNumbers)\n",
        "\n",
        "print(\"Head:\", prime_list.head.data)\n",
        "\n",
        "print(\"Tail:\", prime_list.tail.data)\n"
      ]
    }
  ]
}