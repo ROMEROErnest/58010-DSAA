{
  "nbformat": 4,
  "nbformat_minor": 0,
  "metadata": {
    "colab": {
      "provenance": [],
      "authorship_tag": "ABX9TyNmXw/TYev17Od8xhxraM4B",
      "include_colab_link": true
    },
    "kernelspec": {
      "name": "python3",
      "display_name": "Python 3"
    },
    "language_info": {
      "name": "python"
    }
  },
  "cells": [
    {
      "cell_type": "markdown",
      "metadata": {
        "id": "view-in-github",
        "colab_type": "text"
      },
      "source": [
        "<a href=\"https://colab.research.google.com/github/ROMEROErnest/58010-DSAA/blob/main/Long_Quiz_1.ipynb\" target=\"_parent\"><img src=\"https://colab.research.google.com/assets/colab-badge.svg\" alt=\"Open In Colab\"/></a>"
      ]
    },
    {
      "cell_type": "markdown",
      "source": [
        "1."
      ],
      "metadata": {
        "id": "thAOK5eSQAL7"
      }
    },
    {
      "cell_type": "code",
      "execution_count": 15,
      "metadata": {
        "colab": {
          "base_uri": "https://localhost:8080/"
        },
        "id": "EgK-TvVHLi3H",
        "outputId": "9d48fbef-873a-4a80-fab3-b6c2a6a63864"
      },
      "outputs": [
        {
          "output_type": "stream",
          "name": "stdout",
          "text": [
            "o\n",
            "r\n",
            "e\n",
            "m\n",
            "o\n",
            "R\n",
            " \n",
            "n\n",
            "a\n",
            "i\n",
            "t\n",
            "s\n",
            "i\n",
            "r\n",
            "h\n",
            "C\n",
            " \n",
            "t\n",
            "s\n",
            "e\n",
            "n\n",
            "r\n",
            "E\n"
          ]
        }
      ],
      "source": [
        "Fname = \"Ernest Christian Romero\"\n",
        "\n",
        "name_characters = []\n",
        "for name in Fname:\n",
        "    name_characters.append(name)\n",
        "\n",
        "for name in reversed(name_characters):\n",
        "    print(name)\n"
      ]
    },
    {
      "cell_type": "markdown",
      "source": [
        "2."
      ],
      "metadata": {
        "id": "U909a-HkLmdQ"
      }
    },
    {
      "cell_type": "code",
      "source": [
        "def prime_num(int):\n",
        "    if int <= 1:\n",
        "        return False\n",
        "    if int <= 3:\n",
        "        return True\n",
        "    if int % 2 == 0 or int % 3 == 0:\n",
        "        return False\n",
        "    n = 5\n",
        "    while n * n <= int:\n",
        "        if int % n == 0 or int % (n + 2) == 0:\n",
        "            return False\n",
        "        n += 6\n",
        "    return True\n",
        "\n",
        "for int in range(1, 11):\n",
        "    if prime_num(int):\n",
        "        print(f\"{int} is prime.\")\n",
        "    else:\n",
        "        print(f\"{int} is composite.\")\n"
      ],
      "metadata": {
        "colab": {
          "base_uri": "https://localhost:8080/"
        },
        "id": "xqvB6hFfLn6h",
        "outputId": "0c3a493b-8516-4cca-9ece-92560572f46c"
      },
      "execution_count": 11,
      "outputs": [
        {
          "output_type": "stream",
          "name": "stdout",
          "text": [
            "1 is composite.\n",
            "2 is prime.\n",
            "3 is prime.\n",
            "4 is composite.\n",
            "5 is prime.\n",
            "6 is composite.\n",
            "7 is prime.\n",
            "8 is composite.\n",
            "9 is composite.\n",
            "10 is composite.\n"
          ]
        }
      ]
    }
  ]
}