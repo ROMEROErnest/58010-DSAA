{
  "nbformat": 4,
  "nbformat_minor": 0,
  "metadata": {
    "colab": {
      "provenance": [],
      "authorship_tag": "ABX9TyNVE9DNkbxuZSXVeRr2CL0K",
      "include_colab_link": true
    },
    "kernelspec": {
      "name": "python3",
      "display_name": "Python 3"
    },
    "language_info": {
      "name": "python"
    }
  },
  "cells": [
    {
      "cell_type": "markdown",
      "metadata": {
        "id": "view-in-github",
        "colab_type": "text"
      },
      "source": [
        "<a href=\"https://colab.research.google.com/github/ROMEROErnest/58010-DSAA/blob/main/Prelim_Exam.ipynb\" target=\"_parent\"><img src=\"https://colab.research.google.com/assets/colab-badge.svg\" alt=\"Open In Colab\"/></a>"
      ]
    },
    {
      "cell_type": "markdown",
      "source": [
        "Adding test scores"
      ],
      "metadata": {
        "id": "Jc8Gl2KCVx59"
      }
    },
    {
      "cell_type": "code",
      "execution_count": 1,
      "metadata": {
        "colab": {
          "base_uri": "https://localhost:8080/"
        },
        "id": "8qJp1Cy6R_I1",
        "outputId": "f95b751a-bcc8-4c77-ce90-abafb1653757"
      },
      "outputs": [
        {
          "output_type": "stream",
          "name": "stdout",
          "text": [
            "Total Score:  397\n"
          ]
        }
      ],
      "source": [
        "TScore = [26, 49, 98, 87, 62, 75]\n",
        "\n",
        "total_score = sum(TScore)\n",
        "print(\"Total Score: \", total_score)"
      ]
    },
    {
      "cell_type": "markdown",
      "source": [
        "Sort the test scores"
      ],
      "metadata": {
        "id": "RTDZjEmdYQGo"
      }
    },
    {
      "cell_type": "code",
      "source": [
        "TScore = [26, 49, 98, 87, 62, 75]\n",
        "\n",
        "sorted_scores = sorted(TScore)\n",
        "\n",
        "print(\"Scores: \", sorted_scores)\n"
      ],
      "metadata": {
        "colab": {
          "base_uri": "https://localhost:8080/"
        },
        "id": "BUPc5qGcYTvl",
        "outputId": "cad039a0-2c66-4ab1-f3a1-04e35797eb36"
      },
      "execution_count": 5,
      "outputs": [
        {
          "output_type": "stream",
          "name": "stdout",
          "text": [
            "Scores:  [26, 49, 62, 75, 87, 98]\n"
          ]
        }
      ]
    }
  ]
}