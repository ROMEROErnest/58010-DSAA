{
  "nbformat": 4,
  "nbformat_minor": 0,
  "metadata": {
    "colab": {
      "provenance": [],
      "authorship_tag": "ABX9TyNKlM9NA6lmt0lnNkAkuR60",
      "include_colab_link": true
    },
    "kernelspec": {
      "name": "python3",
      "display_name": "Python 3"
    },
    "language_info": {
      "name": "python"
    }
  },
  "cells": [
    {
      "cell_type": "markdown",
      "metadata": {
        "id": "view-in-github",
        "colab_type": "text"
      },
      "source": [
        "<a href=\"https://colab.research.google.com/github/ROMEROErnest/58010-DSAA/blob/main/Activity_4.ipynb\" target=\"_parent\"><img src=\"https://colab.research.google.com/assets/colab-badge.svg\" alt=\"Open In Colab\"/></a>"
      ]
    },
    {
      "cell_type": "code",
      "execution_count": 16,
      "metadata": {
        "colab": {
          "base_uri": "https://localhost:8080/"
        },
        "id": "aKrh48LuOpEq",
        "outputId": "f5a2bb32-597d-4ade-a76f-646568f6119e"
      },
      "outputs": [
        {
          "output_type": "stream",
          "name": "stdout",
          "text": [
            "[2, 4, 6, 8, 10, 12, 14, 16, 18, 20, 22, 24, 26, 28, 30, 32, 34, 36, 38, 40, 42, 44, 46, 48, 50]\n",
            "[]\n"
          ]
        }
      ],
      "source": [
        "queue = []\n",
        "\n",
        "integer = range (51)\n",
        "for e in integer:\n",
        "  if e % 2 == 0:\n",
        "   if e != 0:\n",
        "    queue.append(e)\n",
        "\n",
        "print(queue)\n",
        "\n",
        "while queue:\n",
        "  queue.pop()\n",
        "\n",
        "print(queue)"
      ]
    },
    {
      "cell_type": "code",
      "source": [
        "queues = []\n",
        "for e in range(1,51):\n",
        "  if e % 2 == 0:\n",
        "    queues.append(e)\n",
        "print(queues)\n",
        "\n",
        "for e in range(25):\n",
        "  queues.pop(0)\n",
        "  print(queues)\n",
        "\n",
        "\n"
      ],
      "metadata": {
        "colab": {
          "base_uri": "https://localhost:8080/"
        },
        "id": "2OIPs5GUZayE",
        "outputId": "060bb43b-0688-412b-c564-8e8ba8067832"
      },
      "execution_count": 21,
      "outputs": [
        {
          "output_type": "stream",
          "name": "stdout",
          "text": [
            "[2, 4, 6, 8, 10, 12, 14, 16, 18, 20, 22, 24, 26, 28, 30, 32, 34, 36, 38, 40, 42, 44, 46, 48, 50]\n",
            "[4, 6, 8, 10, 12, 14, 16, 18, 20, 22, 24, 26, 28, 30, 32, 34, 36, 38, 40, 42, 44, 46, 48, 50]\n",
            "[6, 8, 10, 12, 14, 16, 18, 20, 22, 24, 26, 28, 30, 32, 34, 36, 38, 40, 42, 44, 46, 48, 50]\n",
            "[8, 10, 12, 14, 16, 18, 20, 22, 24, 26, 28, 30, 32, 34, 36, 38, 40, 42, 44, 46, 48, 50]\n",
            "[10, 12, 14, 16, 18, 20, 22, 24, 26, 28, 30, 32, 34, 36, 38, 40, 42, 44, 46, 48, 50]\n",
            "[12, 14, 16, 18, 20, 22, 24, 26, 28, 30, 32, 34, 36, 38, 40, 42, 44, 46, 48, 50]\n",
            "[14, 16, 18, 20, 22, 24, 26, 28, 30, 32, 34, 36, 38, 40, 42, 44, 46, 48, 50]\n",
            "[16, 18, 20, 22, 24, 26, 28, 30, 32, 34, 36, 38, 40, 42, 44, 46, 48, 50]\n",
            "[18, 20, 22, 24, 26, 28, 30, 32, 34, 36, 38, 40, 42, 44, 46, 48, 50]\n",
            "[20, 22, 24, 26, 28, 30, 32, 34, 36, 38, 40, 42, 44, 46, 48, 50]\n",
            "[22, 24, 26, 28, 30, 32, 34, 36, 38, 40, 42, 44, 46, 48, 50]\n",
            "[24, 26, 28, 30, 32, 34, 36, 38, 40, 42, 44, 46, 48, 50]\n",
            "[26, 28, 30, 32, 34, 36, 38, 40, 42, 44, 46, 48, 50]\n",
            "[28, 30, 32, 34, 36, 38, 40, 42, 44, 46, 48, 50]\n",
            "[30, 32, 34, 36, 38, 40, 42, 44, 46, 48, 50]\n",
            "[32, 34, 36, 38, 40, 42, 44, 46, 48, 50]\n",
            "[34, 36, 38, 40, 42, 44, 46, 48, 50]\n",
            "[36, 38, 40, 42, 44, 46, 48, 50]\n",
            "[38, 40, 42, 44, 46, 48, 50]\n",
            "[40, 42, 44, 46, 48, 50]\n",
            "[42, 44, 46, 48, 50]\n",
            "[44, 46, 48, 50]\n",
            "[46, 48, 50]\n",
            "[48, 50]\n",
            "[50]\n",
            "[]\n"
          ]
        }
      ]
    }
  ]
}