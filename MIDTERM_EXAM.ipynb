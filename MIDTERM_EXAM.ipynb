{
  "nbformat": 4,
  "nbformat_minor": 0,
  "metadata": {
    "colab": {
      "provenance": [],
      "authorship_tag": "ABX9TyNjbLlisSl5nZxCs/U5Hmkz",
      "include_colab_link": true
    },
    "kernelspec": {
      "name": "python3",
      "display_name": "Python 3"
    },
    "language_info": {
      "name": "python"
    }
  },
  "cells": [
    {
      "cell_type": "markdown",
      "metadata": {
        "id": "view-in-github",
        "colab_type": "text"
      },
      "source": [
        "<a href=\"https://colab.research.google.com/github/ROMEROErnest/58010-DSAA/blob/main/MIDTERM_EXAM.ipynb\" target=\"_parent\"><img src=\"https://colab.research.google.com/assets/colab-badge.svg\" alt=\"Open In Colab\"/></a>"
      ]
    },
    {
      "cell_type": "code",
      "execution_count": 2,
      "metadata": {
        "colab": {
          "base_uri": "https://localhost:8080/"
        },
        "id": "uYG4WHCHi4dQ",
        "outputId": "a6e4ff93-5a0e-4e99-8a0b-917f03866c05"
      },
      "outputs": [
        {
          "output_type": "stream",
          "name": "stdout",
          "text": [
            "[{'B', 'A'}, {'C', 'B'}, {'E', 'B'}, {'B', 'F'}, {'D', 'C'}, {'E', 'C'}, {'C', 'F'}, {'C', 'I'}, {'C', 'M'}, {'D', 'K'}, {'D', 'L'}, {'E', 'N'}, {'G', 'F'}, {'I', 'F'}, {'I', 'G'}, {'G', 'J'}, {'K', 'I'}, {'I', 'J'}, {'K', 'J'}, {'L', 'M'}, {'L', 'P'}, {'N', 'M'}, {'O', 'M'}, {'P', 'M'}, {'O', 'N'}, {'P', 'O'}]\n"
          ]
        }
      ],
      "source": [
        "#Display Graph Edges\n",
        "\n",
        "class graph:\n",
        "   def __init__(self,gdict=None):\n",
        "      if gdict is None:\n",
        "         gdict = {}\n",
        "      self.gdict = gdict\n",
        "\n",
        "   def edges(self):\n",
        "      return self.findedges()\n",
        "# Find the distinct list of edges\n",
        "   def findedges(self):\n",
        "      edgename = []\n",
        "      for vrtx in self.gdict:\n",
        "         for nxtvrtx in self.gdict[vrtx]:\n",
        "            if {nxtvrtx, vrtx} not in edgename:\n",
        "               edgename.append({vrtx, nxtvrtx})\n",
        "      return edgename\n",
        "# Create the dictionary with graph elements\n",
        "graph_elements = {\n",
        "   \"A\" : [\"B\"],\n",
        "   \"B\" : [\"C\", \"E\", \"F\"],\n",
        "   \"C\" : [\"B\", \"D\", \"E\", \"F\", \"I\", \"M\"],\n",
        "   \"D\" : [\"C\", \"K\", \"L\"],\n",
        "   \"E\" : [\"B\", \"C\", \"N\"],\n",
        "   \"F\" : [\"B\", \"C\", \"G\", \"I\"],\n",
        "   \"G\" : [\"I\", \"J\", \"F\"],\n",
        "   \"I\" : [\"C\", \"G\", \"F\", \"K\"],\n",
        "   \"J\" : [\"G\", \"I\", \"K\"],\n",
        "   \"K\" : [\"D\", \"I\", \"J\"],\n",
        "   \"L\" : [\"D\", \"M\", \"P\"],\n",
        "   \"M\" : [\"C\", \"L\", \"N\", \"O\", \"P\"],\n",
        "   \"N\" : [\"M\", \"E\", \"O\"],\n",
        "   \"O\" : [\"M\", \"N\", \"P\"],\n",
        "   \"P\" : [\"M\", \"L\", \"O\"]\n",
        "}\n",
        "g = graph(graph_elements)\n",
        "print(g.edges())\n"
      ]
    },
    {
      "cell_type": "code",
      "source": [
        "#Display Graph Vertices\n",
        "\n",
        "class graph:\n",
        "   def __init__(self,gdict=None):\n",
        "      if gdict is None:\n",
        "         gdict = []\n",
        "      self.gdict = gdict\n",
        "# Get the keys of the dictionary\n",
        "   def getVertices(self):\n",
        "      return list(self.gdict.keys())\n",
        "# Create the dictionary with graph elements\n",
        "graph_elements = {\n",
        "\"A\" : [\"B\"],\n",
        "   \"B\" : [\"C\", \"E\", \"F\"],\n",
        "   \"C\" : [\"B\", \"D\", \"E\", \"F\", \"I\", \"M\"],\n",
        "   \"D\" : [\"C\", \"K\", \"L\"],\n",
        "   \"E\" : [\"B\", \"C\", \"N\"],\n",
        "   \"F\" : [\"B\", \"C\", \"G\", \"I\"],\n",
        "   \"G\" : [\"I\", \"J\", \"F\"],\n",
        "   \"I\" : [\"C\", \"G\", \"F\", \"K\"],\n",
        "   \"J\" : [\"G\", \"I\", \"K\"],\n",
        "   \"K\" : [\"D\", \"I\", \"J\"],\n",
        "   \"L\" : [\"D\", \"M\", \"P\"],\n",
        "   \"M\" : [\"C\", \"L\", \"N\", \"O\", \"P\"],\n",
        "   \"N\" : [\"M\", \"E\", \"O\"],\n",
        "   \"O\" : [\"M\", \"N\", \"P\"],\n",
        "   \"P\" : [\"M\", \"L\", \"O\"]\n",
        "}\n",
        "g = graph(graph_elements)\n",
        "print(g.getVertices())"
      ],
      "metadata": {
        "colab": {
          "base_uri": "https://localhost:8080/"
        },
        "id": "agpVA4nhtchp",
        "outputId": "3b2753c4-91c8-47fd-e885-ee501dc049bb"
      },
      "execution_count": 3,
      "outputs": [
        {
          "output_type": "stream",
          "name": "stdout",
          "text": [
            "['A', 'B', 'C', 'D', 'E', 'F', 'G', 'I', 'J', 'K', 'L', 'M', 'N', 'O', 'P']\n"
          ]
        }
      ]
    }
  ]
}