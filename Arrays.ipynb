{
  "nbformat": 4,
  "nbformat_minor": 0,
  "metadata": {
    "colab": {
      "provenance": [],
      "authorship_tag": "ABX9TyMnf6tUEkfTqVLv7doJOSSf",
      "include_colab_link": true
    },
    "kernelspec": {
      "name": "python3",
      "display_name": "Python 3"
    },
    "language_info": {
      "name": "python"
    }
  },
  "cells": [
    {
      "cell_type": "markdown",
      "metadata": {
        "id": "view-in-github",
        "colab_type": "text"
      },
      "source": [
        "<a href=\"https://colab.research.google.com/github/ROMEROErnest/58010-DSAA/blob/main/Arrays.ipynb\" target=\"_parent\"><img src=\"https://colab.research.google.com/assets/colab-badge.svg\" alt=\"Open In Colab\"/></a>"
      ]
    },
    {
      "cell_type": "code",
      "execution_count": 3,
      "metadata": {
        "colab": {
          "base_uri": "https://localhost:8080/"
        },
        "id": "LePs3alkuJA1",
        "outputId": "681a568b-6c67-4d24-e825-f66695177f50"
      },
      "outputs": [
        {
          "output_type": "stream",
          "name": "stdout",
          "text": [
            "fish\n"
          ]
        }
      ],
      "source": [
        "#accessing the elements in the array\n",
        "\n",
        "animals = [\"cat\", \"dog\", \"fish\"]\n",
        "\n",
        "x = animals[2]\n",
        "\n",
        "print (x)"
      ]
    },
    {
      "cell_type": "code",
      "source": [
        "#accessing the elements in the array\n",
        "\n",
        "int arr [2] = [\"penguin\", \"iguana\", \"capybara\"]\n"
      ],
      "metadata": {
        "colab": {
          "base_uri": "https://localhost:8080/",
          "height": 140
        },
        "id": "t87ICSp0ujfa",
        "outputId": "d9a81d2b-60f0-466c-ebbc-17fd69067cf9"
      },
      "execution_count": 4,
      "outputs": [
        {
          "output_type": "error",
          "ename": "SyntaxError",
          "evalue": "ignored",
          "traceback": [
            "\u001b[0;36m  File \u001b[0;32m\"<ipython-input-4-81157dc107b2>\"\u001b[0;36m, line \u001b[0;32m3\u001b[0m\n\u001b[0;31m    int arr [2] = [\"penguin\", \"iguana\", \"capybara\"]\u001b[0m\n\u001b[0m        ^\u001b[0m\n\u001b[0;31mSyntaxError\u001b[0m\u001b[0;31m:\u001b[0m invalid syntax\n"
          ]
        }
      ]
    },
    {
      "cell_type": "code",
      "source": [
        "#modifying the elements in the array\n",
        "\n",
        "animals = [\"cat\", \"dog\", \"fish\"]\n",
        "\n",
        "animals[0] = \"monkey\"\n",
        "\n",
        "print (animals)"
      ],
      "metadata": {
        "colab": {
          "base_uri": "https://localhost:8080/"
        },
        "id": "ZKpsdDywvuAP",
        "outputId": "4f102389-0071-4eee-dd71-4587c6237025"
      },
      "execution_count": 5,
      "outputs": [
        {
          "output_type": "stream",
          "name": "stdout",
          "text": [
            "['monkey', 'dog', 'fish']\n"
          ]
        }
      ]
    },
    {
      "cell_type": "code",
      "source": [
        "#length of an array\n",
        "\n",
        "animals = [\"cat\", \"dog\", \"fish\"]\n",
        "\n",
        "x = len(animals)\n",
        "\n",
        "print (x)"
      ],
      "metadata": {
        "colab": {
          "base_uri": "https://localhost:8080/"
        },
        "id": "O28f_lw9wQrm",
        "outputId": "223f5535-007f-43c9-dcbb-4c485f4432d4"
      },
      "execution_count": 6,
      "outputs": [
        {
          "output_type": "stream",
          "name": "stdout",
          "text": [
            "3\n"
          ]
        }
      ]
    },
    {
      "cell_type": "code",
      "source": [
        "#looping array elements\n",
        "animals = [\"cat\", \"dog\", \"fish\"]\n",
        "\n",
        "for x in animals:\n",
        "\n",
        "  print (x)"
      ],
      "metadata": {
        "colab": {
          "base_uri": "https://localhost:8080/"
        },
        "id": "ME4rObGrw0uG",
        "outputId": "71382e57-ec5a-4878-fd23-6498fbcf6a79"
      },
      "execution_count": 11,
      "outputs": [
        {
          "output_type": "stream",
          "name": "stdout",
          "text": [
            "cat\n",
            "dog\n",
            "fish\n"
          ]
        }
      ]
    },
    {
      "cell_type": "code",
      "source": [
        "#adding elements in the aray\n",
        "\n",
        "animals = [\"cat\", \"dog\", \"fish\"]\n",
        "\n",
        "animals.append(\"monkey\")\n",
        "\n",
        "print (animals)"
      ],
      "metadata": {
        "colab": {
          "base_uri": "https://localhost:8080/"
        },
        "id": "MMVDdRg1xE3-",
        "outputId": "901bbd45-3712-4984-b738-a58e6921e000"
      },
      "execution_count": 13,
      "outputs": [
        {
          "output_type": "stream",
          "name": "stdout",
          "text": [
            "['cat', 'dog', 'fish', 'monkey']\n"
          ]
        }
      ]
    },
    {
      "cell_type": "code",
      "source": [
        "#removing an element in the array\n",
        "\n",
        "animals = [\"cat\", \"dog\", \"fish\"]\n",
        "\n",
        "animals.pop(1)\n",
        "\n",
        "print (animals)"
      ],
      "metadata": {
        "colab": {
          "base_uri": "https://localhost:8080/"
        },
        "id": "_IRVg7S0x0-q",
        "outputId": "95e49a0e-322b-4e54-905a-301ab977df2f"
      },
      "execution_count": 14,
      "outputs": [
        {
          "output_type": "stream",
          "name": "stdout",
          "text": [
            "['cat', 'fish']\n"
          ]
        }
      ]
    },
    {
      "cell_type": "code",
      "source": [
        "#ADD/COUNT\n",
        "\n",
        "animals = [\"cat\", \"dog\", \"fish\"]\n",
        "animals.append(\"dragon\")\n",
        "print(animals)\n",
        "x = len(animals)\n",
        "print(x)"
      ],
      "metadata": {
        "colab": {
          "base_uri": "https://localhost:8080/"
        },
        "id": "luH-yB5m0EYV",
        "outputId": "41bf5152-b5e1-4225-bba5-75d74e805fb2"
      },
      "execution_count": 15,
      "outputs": [
        {
          "output_type": "stream",
          "name": "stdout",
          "text": [
            "['cat', 'dog', 'fish', 'dragon']\n",
            "4\n"
          ]
        }
      ]
    },
    {
      "cell_type": "code",
      "source": [
        "animals = [\"fish\", \"monkey\", \"cat\", \"dog\"]\n",
        "\n",
        "animals.sort()\n",
        "\n",
        "print (\"ascending order\", animals)"
      ],
      "metadata": {
        "colab": {
          "base_uri": "https://localhost:8080/"
        },
        "id": "xgHYhAaN2xkI",
        "outputId": "4d05c3be-88ba-4ffe-9b06-de2bc64c6ed7"
      },
      "execution_count": 23,
      "outputs": [
        {
          "output_type": "stream",
          "name": "stdout",
          "text": [
            "ascending order ['cat', 'dog', 'fish', 'monkey']\n"
          ]
        }
      ]
    },
    {
      "cell_type": "code",
      "source": [
        "\n",
        "\n",
        "animals.sort(reverse=True)\n",
        "\n",
        "print (\"descending order\", animals)"
      ],
      "metadata": {
        "colab": {
          "base_uri": "https://localhost:8080/"
        },
        "id": "I40clhXO3xuu",
        "outputId": "e6d6b886-841a-4fe1-c2b0-2b4cb5588c86"
      },
      "execution_count": 22,
      "outputs": [
        {
          "output_type": "stream",
          "name": "stdout",
          "text": [
            "descending order ['monkey', 'fish', 'dog', 'cat']\n"
          ]
        }
      ]
    }
  ]
}