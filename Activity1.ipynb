{
  "nbformat": 4,
  "nbformat_minor": 0,
  "metadata": {
    "colab": {
      "provenance": [],
      "authorship_tag": "ABX9TyPGAy3W/vtyLSl1KVQB8lOc",
      "include_colab_link": true
    },
    "kernelspec": {
      "name": "python3",
      "display_name": "Python 3"
    },
    "language_info": {
      "name": "python"
    }
  },
  "cells": [
    {
      "cell_type": "markdown",
      "metadata": {
        "id": "view-in-github",
        "colab_type": "text"
      },
      "source": [
        "<a href=\"https://colab.research.google.com/github/ROMEROErnest/58010-DSAA/blob/main/Activity1.ipynb\" target=\"_parent\"><img src=\"https://colab.research.google.com/assets/colab-badge.svg\" alt=\"Open In Colab\"/></a>"
      ]
    },
    {
      "cell_type": "code",
      "execution_count": 18,
      "metadata": {
        "colab": {
          "base_uri": "https://localhost:8080/"
        },
        "id": "vEXdJQ2c5OFB",
        "outputId": "e4185f44-ddad-4c1c-a4df-c75f60d34c72"
      },
      "outputs": [
        {
          "output_type": "stream",
          "name": "stdout",
          "text": [
            "[1, 2, 3, 4, 5, 6, 7, 8, 9, 10]\n",
            "55\n",
            "3 8\n",
            "11\n"
          ]
        }
      ],
      "source": [
        "#1 Write a Python program to create an array of 10 integers and display the array items. Access individual elements through indexes and compute for the sum.\n",
        "int = [1, 2, 3, 4, 5, 6, 7, 8, 9, 10]\n",
        "n=0\n",
        "print(int)\n",
        "\n",
        "for x in int:\n",
        "  n+=x\n",
        "\n",
        "print(n)\n",
        "\n",
        "total = int[2] + int [4]\n",
        "print (int[2], int[7])\n",
        "print (int[2]+int[7])"
      ]
    },
    {
      "cell_type": "code",
      "source": [
        "#2 Write a Python program to append a new item to the end of the array. Original array: numbers = [1, 2, 3, 4, 5, 6, 7, 8, 9, 10]\n",
        "\n",
        "int = ['1', '2', '3', '4', '5', '6', '7', '8', '9', '10']\n",
        "int.append('11')\n",
        "print (int)"
      ],
      "metadata": {
        "colab": {
          "base_uri": "https://localhost:8080/"
        },
        "id": "K11hnPYL6GGg",
        "outputId": "e8f8a5ca-b5b7-4810-ffd3-30c5a1c61a30"
      },
      "execution_count": 19,
      "outputs": [
        {
          "output_type": "stream",
          "name": "stdout",
          "text": [
            "['1', '2', '3', '4', '5', '6', '7', '8', '9', '10', '11']\n"
          ]
        }
      ]
    },
    {
      "cell_type": "code",
      "source": [
        "#3 Write a Python program to insert a new item before the second element in an existing array. Original array: numbers = [1, 2, 3, 4, 5, 6, 7, 8, 9, 10]\n",
        "int = ['1', '2', '3', '4', '5', '6', '7', '8', '9', '10']\n",
        "int[2] = '2107'\n",
        "int[3] = '3'\n",
        "int[4] = '4'\n",
        "int[5] = '5'\n",
        "int[6] = '6'\n",
        "int[7] = '7'\n",
        "int[8] = '8'\n",
        "int[9] = '9'\n",
        "int.append('10')\n",
        "print (int)\n"
      ],
      "metadata": {
        "colab": {
          "base_uri": "https://localhost:8080/"
        },
        "id": "v0tQbO-a6GO2",
        "outputId": "59970dd4-061c-4f05-a220-d845f64bcaa8"
      },
      "execution_count": 20,
      "outputs": [
        {
          "output_type": "stream",
          "name": "stdout",
          "text": [
            "['1', '2', '2107', '3', '4', '5', '6', '7', '8', '9', '10']\n"
          ]
        }
      ]
    },
    {
      "cell_type": "code",
      "source": [
        "#4 Write a Python program to reverse the order of the items in the array.Original array: numbers = [5, 4, 3, 2, 1]\n",
        "int = [\"5\", \"4\", \"3\", \"2\", \"1\"]\n",
        "\n",
        "int.sort()\n",
        "\n",
        "print (\"ascending order: \", int)\n"
      ],
      "metadata": {
        "colab": {
          "base_uri": "https://localhost:8080/"
        },
        "id": "f6IWx4AW6GYH",
        "outputId": "5032bc1a-dac9-440c-e7e1-dee138f69097"
      },
      "execution_count": 14,
      "outputs": [
        {
          "output_type": "stream",
          "name": "stdout",
          "text": [
            "ascending order:  ['1', '2', '3', '4', '5']\n"
          ]
        }
      ]
    },
    {
      "cell_type": "code",
      "source": [
        "#5 Write a Python program to get the length of the array. Original array: numbers = [5, 4, 3, 2, 1]\n",
        "int = [\"5\", \"4\", \"3\", \"2\", \"1\"]\n",
        "\n",
        "x = len(int)\n",
        "\n",
        "print (x)"
      ],
      "metadata": {
        "colab": {
          "base_uri": "https://localhost:8080/"
        },
        "id": "d8fapWIp6Gff",
        "outputId": "dbb38fd0-e2b1-465d-cb75-0c7f229ead1d"
      },
      "execution_count": 13,
      "outputs": [
        {
          "output_type": "stream",
          "name": "stdout",
          "text": [
            "5\n"
          ]
        }
      ]
    }
  ]
}