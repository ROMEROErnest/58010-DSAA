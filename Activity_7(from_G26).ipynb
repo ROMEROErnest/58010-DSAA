{
  "nbformat": 4,
  "nbformat_minor": 0,
  "metadata": {
    "colab": {
      "provenance": [],
      "authorship_tag": "ABX9TyOi9Ml6i9922dR+Gt5FzLqu",
      "include_colab_link": true
    },
    "kernelspec": {
      "name": "python3",
      "display_name": "Python 3"
    },
    "language_info": {
      "name": "python"
    }
  },
  "cells": [
    {
      "cell_type": "markdown",
      "metadata": {
        "id": "view-in-github",
        "colab_type": "text"
      },
      "source": [
        "<a href=\"https://colab.research.google.com/github/ROMEROErnest/58010-DSAA/blob/main/Activity_7(from_G26).ipynb\" target=\"_parent\"><img src=\"https://colab.research.google.com/assets/colab-badge.svg\" alt=\"Open In Colab\"/></a>"
      ]
    },
    {
      "cell_type": "code",
      "execution_count": 9,
      "metadata": {
        "colab": {
          "base_uri": "https://localhost:8080/"
        },
        "id": "o9TwiYMIqRxT",
        "outputId": "7252c712-5193-47fc-dd28-83acb1450f24"
      },
      "outputs": [
        {
          "output_type": "stream",
          "name": "stdout",
          "text": [
            "[{'q', 't'}, {'q', 'w'}, {'q', 's'}, {'r', 'u'}, {'y', 'r'}, {'s', 'u'}, {'x', 't'}, {'t', 'y'}, {'y', 'u'}, {'v', 'w'}, {'s', 'w'}, {'x', 'z'}]\n"
          ]
        }
      ],
      "source": [
        "#Display Graph Edges\n",
        "\n",
        "class graph:\n",
        "   def __init__(self,gdict=None):\n",
        "      if gdict is None:\n",
        "         gdict = {}\n",
        "      self.gdict = gdict\n",
        "\n",
        "   def edges(self):\n",
        "      return self.findedges()\n",
        "# Find the distinct list of edges\n",
        "   def findedges(self):\n",
        "      edgename = []\n",
        "      for vrtx in self.gdict:\n",
        "         for nxtvrtx in self.gdict[vrtx]:\n",
        "            if {nxtvrtx, vrtx} not in edgename:\n",
        "               edgename.append({vrtx, nxtvrtx})\n",
        "      return edgename\n",
        "# Create the dictionary with graph elements\n",
        "graph_elements = {\n",
        "   \"q\" : [\"t\",\"w\", \"s\"],\n",
        "   \"r\" : [\"u\", \"y\"],\n",
        "   \"s\" : [\"u\"],\n",
        "   \"t\" : [\"x\", \"y\"],\n",
        "   \"u\" : [\"y\"],\n",
        "   \"v\" : [\"w\"],\n",
        "   \"w\" : [\"s\"],\n",
        "   \"x\" : [\"z\"],\n",
        "   \"z\" : [\"x\"]\n",
        "}\n",
        "g = graph(graph_elements)\n",
        "print(g.edges())\n"
      ]
    }
  ]
}